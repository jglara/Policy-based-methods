{
 "cells": [
  {
   "attachments": {},
   "cell_type": "markdown",
   "metadata": {},
   "source": [
    "# Continuous Control\n",
    "\n",
    "---\n",
    "\n",
    "This is the second project of the [Deep Reinforcement Learning Nanodegree](https://www.udacity.com/course/deep-reinforcement-learning-nanodegree--nd893) program. This notebook implements Deep Determistic Policy Gradient Algorithm (DDPG) to solve the second version of the Reacher environment.\n",
    "\n",
    "### 1. Start the Environment\n",
    "\n",
    "Check the README file to install the required dependencies and the Reacher environment files."
   ]
  },
  {
   "attachments": {},
   "cell_type": "markdown",
   "metadata": {},
   "source": [
    "### Training the agent\n",
    "\n",
    "First, we import the required dependencies"
   ]
  },
  {
   "cell_type": "code",
   "execution_count": 1,
   "metadata": {},
   "outputs": [
    {
     "name": "stderr",
     "output_type": "stream",
     "text": [
      "/home/jglara/.pyenv/versions/3.9.2/envs/RL/lib/python3.9/site-packages/tqdm/auto.py:22: TqdmWarning: IProgress not found. Please update jupyter and ipywidgets. See https://ipywidgets.readthedocs.io/en/stable/user_install.html\n",
      "  from .autonotebook import tqdm as notebook_tqdm\n"
     ]
    }
   ],
   "source": [
    "from unityagents import UnityEnvironment\n",
    "import numpy as np\n",
    "from ddpg import DDPGAgent\n",
    "import torch\n",
    "from collections import deque\n",
    "from train import train_loop\n",
    "import yaml\n"
   ]
  },
  {
   "attachments": {},
   "cell_type": "markdown",
   "metadata": {},
   "source": [
    "Load the hyperparameters from the yaml file"
   ]
  },
  {
   "cell_type": "code",
   "execution_count": 2,
   "metadata": {},
   "outputs": [],
   "source": [
    "# Hyper parameters                                                                                                                                                                                             \n",
    "params = yaml.load(open(\"parameters.yaml\"), Loader=yaml.FullLoader)[\"parameters\"]                                                                                                                              \n",
    "                                                                                                                                                                                              \n",
    "                    \n"
   ]
  },
  {
   "attachments": {},
   "cell_type": "markdown",
   "metadata": {},
   "source": [
    "Load the environment ( for the training phase is better to use no visualization ), and the create the Agent and start the training loop with the goal of 30.0 average reward\n",
    "\n",
    "Start the training loop. When the goal of 30 average rewards is reached, the weights are saved, and the average rewards plot is shown"
   ]
  },
  {
   "cell_type": "code",
   "execution_count": 3,
   "metadata": {},
   "outputs": [
    {
     "name": "stdout",
     "output_type": "stream",
     "text": [
      "Found path: /home/jglara/DEV/RL/Policy-based-methods/./Reacher_Linux_NoVis_v2/Reacher.x86_64\n",
      "Mono path[0] = '/home/jglara/DEV/RL/Policy-based-methods/./Reacher_Linux_NoVis_v2/Reacher_Data/Managed'\n",
      "Mono config path = '/home/jglara/DEV/RL/Policy-based-methods/./Reacher_Linux_NoVis_v2/Reacher_Data/MonoBleedingEdge/etc'\n",
      "Preloaded 'libgrpc_csharp_ext.x64.so'\n",
      "Unable to preload the following plugins:\n",
      "\tlibgrpc_csharp_ext.x86.so\n",
      "Logging to /home/jglara/.config/unity3d/Unity Technologies/Unity Environment/Player.log\n"
     ]
    },
    {
     "name": "stderr",
     "output_type": "stream",
     "text": [
      "INFO:unityagents:\n",
      "'Academy' started successfully!\n",
      "Unity Academy name: Academy\n",
      "        Number of Brains: 1\n",
      "        Number of External Brains : 1\n",
      "        Lesson number : 0\n",
      "        Reset Parameters :\n",
      "\t\tgoal_speed -> 1.0\n",
      "\t\tgoal_size -> 5.0\n",
      "Unity brain name: ReacherBrain\n",
      "        Number of Visual Observations (per agent): 0\n",
      "        Vector Observation space type: continuous\n",
      "        Vector Observation space size (per agent): 33\n",
      "        Number of stacked Vector Observation: 1\n",
      "        Vector Action space type: continuous\n",
      "        Vector Action space size (per agent): 4\n",
      "        Vector Action descriptions: , , , \n"
     ]
    },
    {
     "name": "stdout",
     "output_type": "stream",
     "text": [
      "agents = 20 . Action space: 4 observation space: 33\n",
      "Episode 100 \tAverage Score: 28.32\n",
      "Episode 105 \tAverage Score: 30.06\n",
      "Environment solved in 105 episodes!\tAverage Score: 30.06\n"
     ]
    }
   ],
   "source": [
    "device = torch.device(\"cuda:0\" if torch.cuda.is_available() else \"cpu\")                                                                                                                                        \n",
    "                                                                                                                                                                                                                   \n",
    "env = UnityEnvironment(file_name='./Reacher_Linux_NoVis_v2/Reacher.x86_64')                                                                                                                                    \n",
    "                                                                                                                                                                                                                   \n",
    "# get the default brain                                                                                                                                                                                        \n",
    "brain_name = env.brain_names[0]                                                                                                                                                                                \n",
    "brain = env.brains[brain_name]                                                                                                                                                                                 \n",
    "                                                                                                                                                                                                                   \n",
    "env_info = env.reset(train_mode=True)[brain_name]                                                                                                                                                              \n",
    "action_size = brain.vector_action_space_size                                                                                                                                                                   \n",
    "states = env_info.vector_observations                                                                                                                                                                          \n",
    "state_size = states.shape[1]                                                                                                                                                                                   \n",
    "num_agents = len(env_info.agents)                                                                                                                                                                              \n",
    "print(f\"agents = {num_agents} . Action space: {action_size} observation space: {state_size}\")                                                                                                                  \n",
    "agent = DDPGAgent(state_size, action_size, device=device, **params)                                                                                                                                            \n",
    "                                                                                                                                                                                                                   \n",
    "scores = train_loop(brain_name, env, agent, max_t=1000, goal=30.0, running_average=100, **params)    "
   ]
  },
  {
   "cell_type": "code",
   "execution_count": 4,
   "metadata": {},
   "outputs": [],
   "source": [
    "env.close()"
   ]
  },
  {
   "cell_type": "code",
   "execution_count": 5,
   "metadata": {},
   "outputs": [
    {
     "data": {
      "image/png": "[encoded data removed]",
      "text/plain": [
       "<Figure size 640x480 with 1 Axes>"
      ]
     },
     "metadata": {},
     "output_type": "display_data"
    }
   ],
   "source": [
    "import matplotlib.pyplot as plt\n",
    "%matplotlib inline\n",
    "\n",
    "# plot the scores\n",
    "fig = plt.figure()\n",
    "ax = fig.add_subplot(111)\n",
    "plt.plot(np.arange(len(scores)), scores)\n",
    "plt.ylabel('Score')\n",
    "plt.xlabel('Episode #')\n",
    "plt.show()"
   ]
  },
  {
   "cell_type": "code",
   "execution_count": 5,
   "metadata": {},
   "outputs": [
    {
     "data": {
      "text/plain": [
       "<Figure size 640x480 with 0 Axes>"
      ]
     },
     "metadata": {},
     "output_type": "display_data"
    }
   ],
   "source": [
    "plt.savefig(\"scores.png\")"
   ]
  },
  {
   "cell_type": "code",
   "execution_count": null,
   "metadata": {},
   "outputs": [],
   "source": []
  }
 ],
 "metadata": {
  "kernelspec": {
   "display_name": "RL",
   "language": "python",
   "name": "python3"
  },
  "language_info": {
   "codemirror_mode": {
    "name": "ipython",
    "version": 3
   },
   "file_extension": ".py",
   "mimetype": "text/x-python",
   "name": "python",
   "nbconvert_exporter": "python",
   "pygments_lexer": "ipython3",
   "version": "3.9.2"
  },
  "vscode": {
   "interpreter": {
    "hash": "af129cbc8f0558b61813b2f58eafccb31bf3b2f4941b089ec10f97b3fabb4e58"
   }
  }
 },
 "nbformat": 4,
 "nbformat_minor": 2
}
